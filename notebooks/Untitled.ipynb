{
 "cells": [
  {
   "cell_type": "code",
   "execution_count": 1,
   "id": "fbf9b315-a1bd-4b66-b2a6-b629464745d8",
   "metadata": {},
   "outputs": [],
   "source": [
    "from selenium import webdriver\n",
    "from selenium.webdriver.common.by import By\n",
    "from selenium.webdriver.support.ui import Select\n",
    "from selenium.webdriver.firefox.options import Options"
   ]
  },
  {
   "cell_type": "code",
   "execution_count": 2,
   "id": "7fc78855-3401-4eff-a30b-d4db5cff6c76",
   "metadata": {},
   "outputs": [],
   "source": [
    "options = Options()\n",
    "# options.add_argument(\"--headless\")\n",
    "# prefs = {\"download.default_directory\": \"C:/TET/hmg/data\"};\n",
    "# options.add_experimental_option(\"prefs\", prefs);\n",
    "driver = webdriver.Firefox(options=options)\n"
   ]
  },
  {
   "cell_type": "code",
   "execution_count": 4,
   "id": "5ca51eec-6470-4d6d-8bd5-c17b1bf57b72",
   "metadata": {},
   "outputs": [],
   "source": [
    "url = 'https://www.avito.ru/derbent/doma_dachi_kottedzhi/dom_280_m_na_uchastke_45_sot._2376662761'\n",
    "driver.get(url)\n"
   ]
  },
  {
   "cell_type": "code",
   "execution_count": 11,
   "id": "911126d7-9499-4904-8fc3-aca8a5cd206c",
   "metadata": {},
   "outputs": [],
   "source": [
    "\n",
    "\n",
    "# elem = driver.find_element(By.XPATH, nein)\n",
    "parameter = 'Ремонт'\n",
    "# elem = driver.find_element(By.XPATH,\"//ul[@class='params-paramsList-zLpAu']//li[contains(text(),'{0}')]\".format(parameter))\n",
    "elem = driver.find_element(By.XPATH,\"//span[text()='{0}']\".format(parameter))\n",
    "chick = elem.find_element(By.XPATH, \"./..\")\n",
    "# elem.click()"
   ]
  },
  {
   "cell_type": "code",
   "execution_count": 13,
   "id": "02675b85-eb05-485d-8611-5deff04fdeb9",
   "metadata": {},
   "outputs": [
    {
     "data": {
      "text/plain": [
       "'Ремонт: косметический'"
      ]
     },
     "execution_count": 13,
     "metadata": {},
     "output_type": "execute_result"
    }
   ],
   "source": [
    "chick.text"
   ]
  },
  {
   "cell_type": "code",
   "execution_count": 14,
   "id": "bc902604-4c1f-4a5e-86ff-db8dfe4fe9f7",
   "metadata": {},
   "outputs": [],
   "source": [
    "\n",
    "\n",
    "# elem = driver.find_element(By.XPATH, nein)\n",
    "parameter = 'Транспортная доступность'\n",
    "# elem = driver.find_element(By.XPATH,\"//ul[@class='params-paramsList-zLpAu']//li[contains(text(),'{0}')]\".format(parameter))\n",
    "elem = driver.find_element(By.XPATH,\"//span[text()='{0}']\".format(parameter))\n",
    "chick = elem.find_element(By.XPATH, \"./..\")\n",
    "# elem.click()"
   ]
  },
  {
   "cell_type": "code",
   "execution_count": 15,
   "id": "511dd71b-443c-4d59-b547-a2cf9ca12e20",
   "metadata": {},
   "outputs": [
    {
     "data": {
      "text/plain": [
       "'Транспортная доступность: асфальтированная дорога'"
      ]
     },
     "execution_count": 15,
     "metadata": {},
     "output_type": "execute_result"
    }
   ],
   "source": [
    "chick.text"
   ]
  },
  {
   "cell_type": "code",
   "execution_count": 16,
   "id": "7763bf71-f52b-4302-8248-cc7955ff181e",
   "metadata": {},
   "outputs": [],
   "source": [
    "\n",
    "\n",
    "# elem = driver.find_element(By.XPATH, nein)\n",
    "parameter = 'Категория земель'\n",
    "# elem = driver.find_element(By.XPATH,\"//ul[@class='params-paramsList-zLpAu']//li[contains(text(),'{0}')]\".format(parameter))\n",
    "elem = driver.find_element(By.XPATH,\"//span[text()='{0}']\".format(parameter))\n",
    "chick = elem.find_element(By.XPATH, \"./..\")\n",
    "# elem.click()"
   ]
  },
  {
   "cell_type": "code",
   "execution_count": 17,
   "id": "c8ba0f34-edd3-4753-b4ee-200b9a952408",
   "metadata": {},
   "outputs": [
    {
     "data": {
      "text/plain": [
       "'Категория земель: индивидуальное жилищное строительство (ИЖС)'"
      ]
     },
     "execution_count": 17,
     "metadata": {},
     "output_type": "execute_result"
    }
   ],
   "source": [
    "chick.text"
   ]
  },
  {
   "cell_type": "code",
   "execution_count": null,
   "id": "d686e649-da97-4c30-8bb8-2f815364eedc",
   "metadata": {},
   "outputs": [],
   "source": [
    "\n",
    "\n",
    "# elem = driver.find_element(By.XPATH, nein)\n",
    "parameter = 'Коммуникации'\n",
    "# elem = driver.find_element(By.XPATH,\"//ul[@class='params-paramsList-zLpAu']//li[contains(text(),'{0}')]\".format(parameter))\n",
    "elem = driver.find_element(By.XPATH,\"//span[text()='{0}']\".format(parameter))\n",
    "chick = elem.find_element(By.XPATH, \"./..\")\n",
    "# elem.click()"
   ]
  },
  {
   "cell_type": "code",
   "execution_count": null,
   "id": "dbd4467e-00b0-489e-ad5c-4f3f865371d6",
   "metadata": {},
   "outputs": [],
   "source": [
    "chick.text"
   ]
  },
  {
   "cell_type": "code",
   "execution_count": 18,
   "id": "ea0c21ed-484d-4bad-9d9f-006bc4b6e75a",
   "metadata": {},
   "outputs": [],
   "source": [
    "\n",
    "\n",
    "# elem = driver.find_element(By.XPATH, nein)\n",
    "parameter = 'Этажей в доме'\n",
    "# elem = driver.find_element(By.XPATH,\"//ul[@class='params-paramsList-zLpAu']//li[contains(text(),'{0}')]\".format(parameter))\n",
    "elem = driver.find_element(By.XPATH,\"//span[text()='{0}']\".format(parameter))\n",
    "chick = elem.find_element(By.XPATH, \"./..\")\n",
    "# elem.click()"
   ]
  },
  {
   "cell_type": "code",
   "execution_count": 19,
   "id": "fe47cfd3-cb9d-461d-8798-5bac989642ce",
   "metadata": {},
   "outputs": [
    {
     "data": {
      "text/plain": [
       "'Этажей в доме: 2'"
      ]
     },
     "execution_count": 19,
     "metadata": {},
     "output_type": "execute_result"
    }
   ],
   "source": [
    "chick.text"
   ]
  },
  {
   "cell_type": "code",
   "execution_count": 20,
   "id": "4a0743ea-5f05-409c-9ed9-e0a290400c7a",
   "metadata": {},
   "outputs": [],
   "source": [
    "\n",
    "\n",
    "# elem = driver.find_element(By.XPATH, nein)\n",
    "parameter = 'Материал стен'\n",
    "# elem = driver.find_element(By.XPATH,\"//ul[@class='params-paramsList-zLpAu']//li[contains(text(),'{0}')]\".format(parameter))\n",
    "elem = driver.find_element(By.XPATH,\"//span[text()='{0}']\".format(parameter))\n",
    "chick = elem.find_element(By.XPATH, \"./..\")\n",
    "# elem.click()"
   ]
  },
  {
   "cell_type": "code",
   "execution_count": 21,
   "id": "835ace67-34b3-4a80-90a7-76f201b97115",
   "metadata": {},
   "outputs": [
    {
     "data": {
      "text/plain": [
       "'Материал стен: кирпич'"
      ]
     },
     "execution_count": 21,
     "metadata": {},
     "output_type": "execute_result"
    }
   ],
   "source": [
    "chick.text"
   ]
  },
  {
   "cell_type": "code",
   "execution_count": 22,
   "id": "8d5b4e34-7d11-4cc1-a3b9-2fa5288a2410",
   "metadata": {},
   "outputs": [],
   "source": [
    "\n",
    "\n",
    "# elem = driver.find_element(By.XPATH, nein)\n",
    "parameter = 'Количество комнат'\n",
    "# elem = driver.find_element(By.XPATH,\"//ul[@class='params-paramsList-zLpAu']//li[contains(text(),'{0}')]\".format(parameter))\n",
    "elem = driver.find_element(By.XPATH,\"//span[text()='{0}']\".format(parameter))\n",
    "chick = elem.find_element(By.XPATH, \"./..\")\n",
    "# elem.click()"
   ]
  },
  {
   "cell_type": "code",
   "execution_count": 23,
   "id": "0e0278c5-f68c-4066-9a97-661a5b881321",
   "metadata": {},
   "outputs": [
    {
     "data": {
      "text/plain": [
       "'Количество комнат: 8'"
      ]
     },
     "execution_count": 23,
     "metadata": {},
     "output_type": "execute_result"
    }
   ],
   "source": [
    "chick.text"
   ]
  },
  {
   "cell_type": "code",
   "execution_count": null,
   "id": "e71a918d-66b4-4a1d-a93a-616a36dbce5c",
   "metadata": {},
   "outputs": [],
   "source": [
    "driver.close()"
   ]
  }
 ],
 "metadata": {
  "kernelspec": {
   "display_name": "Python 3 (ipykernel)",
   "language": "python",
   "name": "python3"
  },
  "language_info": {
   "codemirror_mode": {
    "name": "ipython",
    "version": 3
   },
   "file_extension": ".py",
   "mimetype": "text/x-python",
   "name": "python",
   "nbconvert_exporter": "python",
   "pygments_lexer": "ipython3",
   "version": "3.10.10"
  }
 },
 "nbformat": 4,
 "nbformat_minor": 5
}
